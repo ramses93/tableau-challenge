{
 "cells": [
  {
   "cell_type": "code",
   "execution_count": 1,
   "source": [
    "import requests\r\n",
    "import zipfile\r\n",
    "import pandas as pd\r\n",
    "import io\r\n",
    "from sqlalchemy import create_engine"
   ],
   "outputs": [],
   "metadata": {}
  },
  {
   "cell_type": "code",
   "execution_count": 2,
   "source": [
    "# Generate list of file names to download and clean\r\n",
    "years = ['2020','2021']\r\n",
    "months = ['01','02','08','09']\r\n",
    "save_directory = '../../../Data/citibike/'\r\n",
    "db_name = '202001-202108-citibike-tripdata.sqlite'\r\n",
    "engine = create_engine(f'sqlite:///{save_directory}{db_name}')\r\n",
    "file_names = [f'{year}{month}-citibike-tripdata' for year in years for month in months]\r\n",
    "file_names.append('202101-citibike-tripdata')"
   ],
   "outputs": [],
   "metadata": {}
  },
  {
   "cell_type": "code",
   "execution_count": null,
   "source": [
    "def extract_clean(save_path, file_list):\r\n",
    "    header= {\r\n",
    "        'tripduration':'trip_duration',\r\n",
    "        'bikeid':'ride_id',\r\n",
    "        'bike_id':'ride_id',\r\n",
    "        'starttime':'started_at',\r\n",
    "        'stoptime':'ended_at',\r\n",
    "        'start station name':'start_station_name',\r\n",
    "        'start station id':'start_station_id',\r\n",
    "        'end station name':'end_station_name',\r\n",
    "        'end station id':'end_station_id',\r\n",
    "        'start station latitude':'start_lat',\r\n",
    "        'start station longitude':'start_lng',\r\n",
    "        'end station latitude':'end_lat',\r\n",
    "        'end station longitude':'end_lng',\r\n",
    "        'usertype':'member_casual',\r\n",
    "        'birth year':'Birth Year',\r\n",
    "        'gender':'Gender',\r\n",
    "        'trip duration':'trip_duration',\r\n",
    "        'Bike ID':'ride_id',\r\n",
    "        'Start Time':'started_at',\r\n",
    "        'Stop Time':'ended_at',\r\n",
    "        'Start Station Name':'start_station_name',\r\n",
    "        'Start Station ID':'start_station_id',\r\n",
    "        'End Station Name':'end_station_name',\r\n",
    "        'End Station ID':'end_station_id',\r\n",
    "        'Start Station Latitude':'start_lat',\r\n",
    "        'Start Station Longitude':'start_lng',\r\n",
    "        'End Station Latitude':'end_lat',\r\n",
    "        'End Station Longitude':'end_lng',\r\n",
    "        'User Type':'member_casual',\r\n",
    "        'Birth Year':'Birth Year',\r\n",
    "        'Trip Duration':'trip_duration'\r\n",
    "    }\r\n",
    "    for file in file_list:\r\n",
    "        url1 = 'https://s3.amazonaws.com/tripdata/' + file + '.zip'\r\n",
    "        url2 = 'https://s3.amazonaws.com/tripdata/' + file + '.csv.zip'\r\n",
    "        \r\n",
    "        #attempt to locate the specified file\r\n",
    "        response = requests.get(url1)\r\n",
    "        if response.status_code != 200:\r\n",
    "            response = requests.get(url2)\r\n",
    "            if response.status_code != 200:\r\n",
    "                print(f'{file} is unavailable')\r\n",
    "                continue\r\n",
    "\r\n",
    "        # rename the column headers, standardize entry formats, and insert the file contents into a sqlite database\r\n",
    "        with zipfile.ZipFile(io.BytesIO(response.content)) as zip_contents:\r\n",
    "            file_list = zip_contents.namelist()\r\n",
    "            with zip_contents.open(file_list[0]) as tempfile:\r\n",
    "                bike_df = pd.read_csv(tempfile)\r\n",
    "                bike_df = bike_df.rename(columns=header_format)\r\n",
    "                bike_df['started_at'] = (pd.to_datetime(bike_df['started_at'])\r\n",
    "                                         .dt.strftime('%Y-%m-%d %H:%M:%S'))\r\n",
    "                bike_df['ended_at'] = (pd.to_datetime(bike_df['ended_at'])\r\n",
    "                                       .dt.strftime('%Y-%m-%d %H:%M:%S'))\r\n",
    "                bike_df['member_casual'] = bike_df['member_casual'].replace({\r\n",
    "                    'Subscriber':'member',\r\n",
    "                    'Customer':'casual'\r\n",
    "                })\r\n",
    "                bike_df.sort_values(by=['started_at'],ignore_index=True)    \r\n",
    "                bike_df.to_sql('bikedata', con = engine, if_exists='append',index=False)\r\n",
    "            tempfile.close()\r\n",
    "        zip_contents.close()\r\n",
    "        response.close()\r\n",
    "        del url1, url2, response \r\n",
    "        del file_list, tempfile, bike_df, zip_contents\r\n",
    "        print(f'Successfully extracted and cleaned {file}')"
   ],
   "outputs": [],
   "metadata": {}
  },
  {
   "cell_type": "code",
   "execution_count": null,
   "source": [],
   "outputs": [],
   "metadata": {}
  },
  {
   "cell_type": "code",
   "execution_count": null,
   "source": [],
   "outputs": [],
   "metadata": {}
  },
  {
   "cell_type": "code",
   "execution_count": null,
   "source": [],
   "outputs": [],
   "metadata": {}
  }
 ],
 "metadata": {
  "orig_nbformat": 4,
  "language_info": {
   "name": "python",
   "version": "3.8.5",
   "mimetype": "text/x-python",
   "codemirror_mode": {
    "name": "ipython",
    "version": 3
   },
   "pygments_lexer": "ipython3",
   "nbconvert_exporter": "python",
   "file_extension": ".py"
  },
  "kernelspec": {
   "name": "python3",
   "display_name": "Python 3.8.5 64-bit ('base': conda)"
  },
  "interpreter": {
   "hash": "ab59e8833a1c1a953fc61f7ebdf031460480fd348b396cef269440458dbce55f"
  }
 },
 "nbformat": 4,
 "nbformat_minor": 2
}